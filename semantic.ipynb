{
  "nbformat": 4,
  "nbformat_minor": 0,
  "metadata": {
    "colab": {
      "provenance": [],
      "authorship_tag": "ABX9TyPMXzDso8B86jT0C2JXlZtW",
      "include_colab_link": true
    },
    "kernelspec": {
      "name": "python3",
      "display_name": "Python 3"
    },
    "language_info": {
      "name": "python"
    }
  },
  "cells": [
    {
      "cell_type": "markdown",
      "metadata": {
        "id": "view-in-github",
        "colab_type": "text"
      },
      "source": [
        "<a href=\"https://colab.research.google.com/github/Abhishek-prajapati12/semantic/blob/main/semantic.ipynb\" target=\"_parent\"><img src=\"https://colab.research.google.com/assets/colab-badge.svg\" alt=\"Open In Colab\"/></a>"
      ]
    },
    {
      "cell_type": "code",
      "source": [
        "!pip install cohere -q"
      ],
      "metadata": {
        "colab": {
          "base_uri": "https://localhost:8080/"
        },
        "id": "5duf57c0Z7HA",
        "outputId": "82170d64-87e5-4a60-ebec-ac933fa98cfa"
      },
      "execution_count": null,
      "outputs": [
        {
          "output_type": "stream",
          "name": "stdout",
          "text": [
            "  Building wheel for cohere (setup.py) ... \u001b[?25l\u001b[?25hdone\n"
          ]
        }
      ]
    },
    {
      "cell_type": "code",
      "source": [
        "!pip install gradio -q"
      ],
      "metadata": {
        "colab": {
          "base_uri": "https://localhost:8080/"
        },
        "id": "_-WHZe_mVS_O",
        "outputId": "a3db1891-0e62-4075-ad5c-3cfb996618ac"
      },
      "execution_count": null,
      "outputs": [
        {
          "output_type": "stream",
          "name": "stdout",
          "text": [
            "\u001b[K     |████████████████████████████████| 278 kB 5.1 MB/s \n",
            "\u001b[K     |████████████████████████████████| 64 kB 2.5 MB/s \n",
            "\u001b[K     |████████████████████████████████| 80 kB 7.1 MB/s \n",
            "\u001b[K     |████████████████████████████████| 69 kB 6.2 MB/s \n",
            "\u001b[K     |████████████████████████████████| 58 kB 4.9 MB/s \n",
            "\u001b[K     |████████████████████████████████| 50 kB 5.8 MB/s \n",
            "\u001b[?25h  Building wheel for ffmpy (setup.py) ... \u001b[?25l\u001b[?25hdone\n",
            "  Building wheel for python-multipart (setup.py) ... \u001b[?25l\u001b[?25hdone\n"
          ]
        }
      ]
    },
    {
      "cell_type": "code",
      "source": [
        "import cohere"
      ],
      "metadata": {
        "id": "jhUhki_maTbV"
      },
      "execution_count": null,
      "outputs": []
    },
    {
      "cell_type": "code",
      "source": [
        "import gradio as gr"
      ],
      "metadata": {
        "id": "zuYOwlmtVmNc"
      },
      "execution_count": null,
      "outputs": []
    },
    {
      "cell_type": "code",
      "source": [
        "co = cohere.Client('mUfW6WL6RvcFah5HphHw5fzLmDPnKSHmjECAgQHe')"
      ],
      "metadata": {
        "id": "A47nUXLjabZg"
      },
      "execution_count": null,
      "outputs": []
    },
    {
      "cell_type": "code",
      "source": [
        "def write_post(topic):\n",
        "  response = co.generate(\n",
        "  model='command-xlarge-20221108',\n",
        "  prompt=f'Create a Blogpost for \\\"{topic}\\\":',\n",
        "  max_tokens=300,\n",
        "  temperature=0.9,\n",
        "  k=0,\n",
        "  p=0.75,\n",
        "  frequency_penalty=0,\n",
        "  presence_penalty=0,\n",
        "  stop_sequences=[],\n",
        "  return_likelihoods='NONE')\n",
        "  return(response.generations[0].text)\n",
        "\n",
        "def write_email(text):\n",
        "  response = co.generate(\n",
        "  model='command-xlarge-20221108',\n",
        "  prompt=f'Command:\\\"{text}\\\"\\n Email:',\n",
        "  max_tokens=200,\n",
        "  temperature=0.6,\n",
        "  k=0,\n",
        "  p=0.75,\n",
        "  frequency_penalty=0,\n",
        "  presence_penalty=0,\n",
        "  stop_sequences=[],\n",
        "  return_likelihoods='NONE')\n",
        "  return(response.generations[0].text)\n",
        "\n",
        "def gen_hastags(hash):\n",
        "  response = co.generate(\n",
        "  model='command-xlarge-20221108',\n",
        "  prompt=f'Post:\\\"{hash}\"\\n Hashtag:',\n",
        "  max_tokens=200,\n",
        "  temperature=0.3,\n",
        "  k=0,\n",
        "  p=1,\n",
        "  frequency_penalty=0,\n",
        "  presence_penalty=0,\n",
        "  stop_sequences=[],\n",
        "  return_likelihoods='NONE')\n",
        "  return(response.generations[0].text)\n",
        "\n"
      ],
      "metadata": {
        "id": "Korv7jGWaznU"
      },
      "execution_count": 15,
      "outputs": []
    },
    {
      "cell_type": "code",
      "source": [
        "with gr.Blocks() as demo:\n",
        "  gr.Markdown(\"# FIND  BLOGPOST, E-MAILS, HASHTAGS\")\n",
        "  with gr.Tab(\"BLOGPOST\"):\n",
        "      gr.Markdown(\"# Get Blogpost\")\n",
        "      with gr.Row():\n",
        "          blg_inp = gr.Textbox(placeholder=\"Enter your Topic for Blog post Generation\", label=\"Topic\")\n",
        "          blg_out = gr.Textbox()\n",
        "      blg_btn = gr.Button(\"Generate  🚀\")\n",
        "      blg_btn.click(fn=write_post, inputs=blg_inp, outputs=blg_out)\n",
        "      \n",
        "  with gr.Tab(\"E-mails\"):\n",
        "      gr.Markdown(\"# Get Emails for You\")\n",
        "      with gr.Row():\n",
        "          mail_inp = gr.Textbox(placeholder=\"Enter for what you want to generate Email\", label = \"Topic\")\n",
        "          mail_out = gr.Textbox()\n",
        "      mail_btn = gr.Button(\"Generate  🚀\")\n",
        "      mail_btn.click(fn=write_email, inputs=mail_inp, outputs=mail_out)\n",
        "\n",
        "  with gr.Tab(\"HASGTAGS\"):\n",
        "      gr.Markdown(\"# Get Social Media Hastags\")\n",
        "      with gr.Row():\n",
        "          hash_inp = gr.Textbox(placeholder=\"Enter your post to generate blogpost\", label=\"Topic\")\n",
        "          hash_out = gr.Textbox()\n",
        "      hash_btn = gr.Button(\"Generate  🚀\")\n",
        "      hash_btn.click(fn=gen_hastags, inputs=hash_inp, outputs=hash_out)\n",
        "  \n",
        "demo.launch(share = True)"
      ],
      "metadata": {
        "id": "CT2fnBDCgSYp",
        "colab": {
          "base_uri": "https://localhost:8080/",
          "height": 591
        },
        "outputId": "7102a523-3b85-401a-8710-edb0435541c1"
      },
      "execution_count": null,
      "outputs": [
        {
          "output_type": "stream",
          "name": "stdout",
          "text": [
            "Colab notebook detected. To show errors in colab notebook, set debug=True in launch()\n",
            "Running on public URL: https://fcde8e70-5403-40ae.gradio.live\n",
            "\n",
            "This share link expires in 72 hours. For free permanent hosting and GPU upgrades (NEW!), check out Spaces: https://huggingface.co/spaces\n"
          ]
        },
        {
          "output_type": "display_data",
          "data": {
            "text/plain": [
              "<IPython.core.display.HTML object>"
            ],
            "text/html": [
              "<div><iframe src=\"https://fcde8e70-5403-40ae.gradio.live\" width=\"100%\" height=\"500\" allow=\"autoplay; camera; microphone; clipboard-read; clipboard-write;\" frameborder=\"0\" allowfullscreen></iframe></div>"
            ]
          },
          "metadata": {}
        },
        {
          "output_type": "execute_result",
          "data": {
            "text/plain": []
          },
          "metadata": {},
          "execution_count": 43
        }
      ]
    },
    {
      "cell_type": "code",
      "source": [],
      "metadata": {
        "id": "rGLS2LyDhd4G"
      },
      "execution_count": null,
      "outputs": []
    },
    {
      "cell_type": "markdown",
      "source": [],
      "metadata": {
        "id": "UGS88DVdhe4l"
      }
    },
    {
      "cell_type": "code",
      "source": [],
      "metadata": {
        "id": "9XzRrXRmhaCd"
      },
      "execution_count": null,
      "outputs": []
    },
    {
      "cell_type": "code",
      "source": [],
      "metadata": {
        "id": "2ClArudiVvRM"
      },
      "execution_count": null,
      "outputs": []
    }
  ]
}